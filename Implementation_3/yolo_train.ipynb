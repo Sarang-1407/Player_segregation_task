{
 "cells": [
  {
   "cell_type": "code",
   "execution_count": 1,
   "metadata": {},
   "outputs": [
    {
     "name": "stdout",
     "output_type": "stream",
     "text": [
      "d:\\Game Theory Assignment\\Implementation_3\\yolov5\n"
     ]
    },
    {
     "name": "stderr",
     "output_type": "stream",
     "text": [
      "Cloning into 'yolov5'...\n"
     ]
    }
   ],
   "source": [
    "!git clone https://github.com/ultralytics/yolov5.git\n",
    "%cd yolov5"
   ]
  },
  {
   "cell_type": "code",
   "execution_count": 2,
   "metadata": {},
   "outputs": [
    {
     "name": "stdout",
     "output_type": "stream",
     "text": [
      "Collecting gitpython>=3.1.30 (from -r requirements.txt (line 5))\n",
      "  Downloading GitPython-3.1.43-py3-none-any.whl.metadata (13 kB)\n",
      "Requirement already satisfied: matplotlib>=3.3 in c:\\users\\hp\\appdata\\local\\programs\\python\\python310\\lib\\site-packages (from -r requirements.txt (line 6)) (3.7.1)\n",
      "Requirement already satisfied: numpy>=1.23.5 in c:\\users\\hp\\appdata\\local\\programs\\python\\python310\\lib\\site-packages (from -r requirements.txt (line 7)) (1.23.5)\n",
      "Requirement already satisfied: opencv-python>=4.1.1 in c:\\users\\hp\\appdata\\local\\programs\\python\\python310\\lib\\site-packages (from -r requirements.txt (line 8)) (4.7.0.68)\n",
      "Collecting pillow>=10.3.0 (from -r requirements.txt (line 9))\n",
      "  Downloading pillow-10.4.0-cp310-cp310-win_amd64.whl.metadata (9.3 kB)\n",
      "Requirement already satisfied: psutil in c:\\users\\hp\\appdata\\roaming\\python\\python310\\site-packages (from -r requirements.txt (line 10)) (5.9.5)\n",
      "Requirement already satisfied: PyYAML>=5.3.1 in c:\\users\\hp\\appdata\\local\\programs\\python\\python310\\lib\\site-packages (from -r requirements.txt (line 11)) (5.4.1)\n",
      "Collecting requests>=2.32.2 (from -r requirements.txt (line 12))\n",
      "  Downloading requests-2.32.3-py3-none-any.whl.metadata (4.6 kB)\n",
      "Requirement already satisfied: scipy>=1.4.1 in c:\\users\\hp\\appdata\\local\\programs\\python\\python310\\lib\\site-packages (from -r requirements.txt (line 13)) (1.10.0)\n",
      "Collecting thop>=0.1.1 (from -r requirements.txt (line 14))\n",
      "  Downloading thop-0.1.1.post2209072238-py3-none-any.whl.metadata (2.7 kB)\n",
      "Requirement already satisfied: torch>=1.8.0 in c:\\users\\hp\\appdata\\local\\programs\\python\\python310\\lib\\site-packages (from -r requirements.txt (line 15)) (2.4.1+cu118)\n",
      "Requirement already satisfied: torchvision>=0.9.0 in c:\\users\\hp\\appdata\\local\\programs\\python\\python310\\lib\\site-packages (from -r requirements.txt (line 16)) (0.19.1+cu118)\n",
      "Collecting tqdm>=4.66.3 (from -r requirements.txt (line 17))\n",
      "  Downloading tqdm-4.66.5-py3-none-any.whl.metadata (57 kB)\n",
      "     ---------------------------------------- 0.0/57.6 kB ? eta -:--:--\n",
      "     ---------------------------------------- 57.6/57.6 kB 3.2 MB/s eta 0:00:00\n",
      "Collecting ultralytics>=8.2.34 (from -r requirements.txt (line 18))\n",
      "  Downloading ultralytics-8.3.5-py3-none-any.whl.metadata (34 kB)\n",
      "Requirement already satisfied: pandas>=1.1.4 in c:\\users\\hp\\appdata\\local\\programs\\python\\python310\\lib\\site-packages (from -r requirements.txt (line 27)) (1.5.3)\n",
      "Requirement already satisfied: seaborn>=0.11.0 in c:\\users\\hp\\appdata\\local\\programs\\python\\python310\\lib\\site-packages (from -r requirements.txt (line 28)) (0.13.1)\n",
      "Collecting setuptools>=70.0.0 (from -r requirements.txt (line 42))\n",
      "  Using cached setuptools-75.1.0-py3-none-any.whl.metadata (6.9 kB)\n",
      "Collecting gitdb<5,>=4.0.1 (from gitpython>=3.1.30->-r requirements.txt (line 5))\n",
      "  Downloading gitdb-4.0.11-py3-none-any.whl.metadata (1.2 kB)\n",
      "Requirement already satisfied: contourpy>=1.0.1 in c:\\users\\hp\\appdata\\local\\programs\\python\\python310\\lib\\site-packages (from matplotlib>=3.3->-r requirements.txt (line 6)) (1.0.7)\n",
      "Requirement already satisfied: cycler>=0.10 in c:\\users\\hp\\appdata\\local\\programs\\python\\python310\\lib\\site-packages (from matplotlib>=3.3->-r requirements.txt (line 6)) (0.11.0)\n",
      "Requirement already satisfied: fonttools>=4.22.0 in c:\\users\\hp\\appdata\\local\\programs\\python\\python310\\lib\\site-packages (from matplotlib>=3.3->-r requirements.txt (line 6)) (4.39.4)\n",
      "Requirement already satisfied: kiwisolver>=1.0.1 in c:\\users\\hp\\appdata\\local\\programs\\python\\python310\\lib\\site-packages (from matplotlib>=3.3->-r requirements.txt (line 6)) (1.4.4)\n",
      "Requirement already satisfied: packaging>=20.0 in c:\\users\\hp\\appdata\\local\\programs\\python\\python310\\lib\\site-packages (from matplotlib>=3.3->-r requirements.txt (line 6)) (23.0)\n",
      "Requirement already satisfied: pyparsing>=2.3.1 in c:\\users\\hp\\appdata\\local\\programs\\python\\python310\\lib\\site-packages (from matplotlib>=3.3->-r requirements.txt (line 6)) (3.0.9)\n",
      "Requirement already satisfied: python-dateutil>=2.7 in c:\\users\\hp\\appdata\\local\\programs\\python\\python310\\lib\\site-packages (from matplotlib>=3.3->-r requirements.txt (line 6)) (2.8.2)\n",
      "Requirement already satisfied: charset-normalizer<4,>=2 in c:\\users\\hp\\appdata\\local\\programs\\python\\python310\\lib\\site-packages (from requests>=2.32.2->-r requirements.txt (line 12)) (3.1.0)\n",
      "Requirement already satisfied: idna<4,>=2.5 in c:\\users\\hp\\appdata\\local\\programs\\python\\python310\\lib\\site-packages (from requests>=2.32.2->-r requirements.txt (line 12)) (3.4)\n",
      "Requirement already satisfied: urllib3<3,>=1.21.1 in c:\\users\\hp\\appdata\\local\\programs\\python\\python310\\lib\\site-packages (from requests>=2.32.2->-r requirements.txt (line 12)) (1.26.15)\n",
      "Requirement already satisfied: certifi>=2017.4.17 in c:\\users\\hp\\appdata\\local\\programs\\python\\python310\\lib\\site-packages (from requests>=2.32.2->-r requirements.txt (line 12)) (2022.12.7)\n",
      "Requirement already satisfied: filelock in c:\\users\\hp\\appdata\\local\\programs\\python\\python310\\lib\\site-packages (from torch>=1.8.0->-r requirements.txt (line 15)) (3.9.0)\n",
      "Requirement already satisfied: typing-extensions>=4.8.0 in c:\\users\\hp\\appdata\\local\\programs\\python\\python310\\lib\\site-packages (from torch>=1.8.0->-r requirements.txt (line 15)) (4.8.0)\n",
      "Requirement already satisfied: sympy in c:\\users\\hp\\appdata\\local\\programs\\python\\python310\\lib\\site-packages (from torch>=1.8.0->-r requirements.txt (line 15)) (1.12)\n",
      "Requirement already satisfied: networkx in c:\\users\\hp\\appdata\\local\\programs\\python\\python310\\lib\\site-packages (from torch>=1.8.0->-r requirements.txt (line 15)) (3.1)\n",
      "Requirement already satisfied: jinja2 in c:\\users\\hp\\appdata\\local\\programs\\python\\python310\\lib\\site-packages (from torch>=1.8.0->-r requirements.txt (line 15)) (3.1.2)\n",
      "Requirement already satisfied: fsspec in c:\\users\\hp\\appdata\\local\\programs\\python\\python310\\lib\\site-packages (from torch>=1.8.0->-r requirements.txt (line 15)) (2024.2.0)\n",
      "Requirement already satisfied: colorama in c:\\users\\hp\\appdata\\roaming\\python\\python310\\site-packages (from tqdm>=4.66.3->-r requirements.txt (line 17)) (0.4.6)\n",
      "Collecting py-cpuinfo (from ultralytics>=8.2.34->-r requirements.txt (line 18))\n",
      "  Downloading py_cpuinfo-9.0.0-py3-none-any.whl.metadata (794 bytes)\n",
      "Collecting ultralytics-thop>=2.0.0 (from ultralytics>=8.2.34->-r requirements.txt (line 18))\n",
      "  Downloading ultralytics_thop-2.0.9-py3-none-any.whl.metadata (9.3 kB)\n",
      "Requirement already satisfied: pytz>=2020.1 in c:\\users\\hp\\appdata\\local\\programs\\python\\python310\\lib\\site-packages (from pandas>=1.1.4->-r requirements.txt (line 27)) (2022.7.1)\n",
      "Collecting smmap<6,>=3.0.1 (from gitdb<5,>=4.0.1->gitpython>=3.1.30->-r requirements.txt (line 5))\n",
      "  Downloading smmap-5.0.1-py3-none-any.whl.metadata (4.3 kB)\n",
      "Requirement already satisfied: six>=1.5 in c:\\users\\hp\\appdata\\local\\programs\\python\\python310\\lib\\site-packages (from python-dateutil>=2.7->matplotlib>=3.3->-r requirements.txt (line 6)) (1.16.0)\n",
      "Requirement already satisfied: MarkupSafe>=2.0 in c:\\users\\hp\\appdata\\local\\programs\\python\\python310\\lib\\site-packages (from jinja2->torch>=1.8.0->-r requirements.txt (line 15)) (2.1.2)\n",
      "Requirement already satisfied: mpmath>=0.19 in c:\\users\\hp\\appdata\\local\\programs\\python\\python310\\lib\\site-packages (from sympy->torch>=1.8.0->-r requirements.txt (line 15)) (1.3.0)\n",
      "Downloading GitPython-3.1.43-py3-none-any.whl (207 kB)\n",
      "   ---------------------------------------- 0.0/207.3 kB ? eta -:--:--\n",
      "   ---------------------------------------- 207.3/207.3 kB 6.4 MB/s eta 0:00:00\n",
      "Downloading pillow-10.4.0-cp310-cp310-win_amd64.whl (2.6 MB)\n",
      "   ---------------------------------------- 0.0/2.6 MB ? eta -:--:--\n",
      "   ------- -------------------------------- 0.5/2.6 MB 15.5 MB/s eta 0:00:01\n",
      "   ------------------ --------------------- 1.2/2.6 MB 18.2 MB/s eta 0:00:01\n",
      "   -------------------------- ------------- 1.7/2.6 MB 15.2 MB/s eta 0:00:01\n",
      "   ------------------------------------- -- 2.4/2.6 MB 16.7 MB/s eta 0:00:01\n",
      "   ---------------------------------------- 2.6/2.6 MB 14.8 MB/s eta 0:00:00\n",
      "Downloading requests-2.32.3-py3-none-any.whl (64 kB)\n",
      "   ---------------------------------------- 0.0/64.9 kB ? eta -:--:--\n",
      "   ---------------------------------------- 64.9/64.9 kB 3.4 MB/s eta 0:00:00\n",
      "Downloading thop-0.1.1.post2209072238-py3-none-any.whl (15 kB)\n",
      "Downloading tqdm-4.66.5-py3-none-any.whl (78 kB)\n",
      "   ---------------------------------------- 0.0/78.4 kB ? eta -:--:--\n",
      "   ---------------------------------------- 78.4/78.4 kB ? eta 0:00:00\n",
      "Downloading ultralytics-8.3.5-py3-none-any.whl (882 kB)\n",
      "   ---------------------------------------- 0.0/882.8 kB ? eta -:--:--\n",
      "   ------------------------------- ------- 716.8/882.8 kB 15.0 MB/s eta 0:00:01\n",
      "   --------------------------------------- 882.8/882.8 kB 13.9 MB/s eta 0:00:00\n",
      "Using cached setuptools-75.1.0-py3-none-any.whl (1.2 MB)\n",
      "Downloading gitdb-4.0.11-py3-none-any.whl (62 kB)\n",
      "   ---------------------------------------- 0.0/62.7 kB ? eta -:--:--\n",
      "   ---------------------------------------- 62.7/62.7 kB 3.5 MB/s eta 0:00:00\n",
      "Downloading ultralytics_thop-2.0.9-py3-none-any.whl (26 kB)\n",
      "Downloading py_cpuinfo-9.0.0-py3-none-any.whl (22 kB)\n",
      "Downloading smmap-5.0.1-py3-none-any.whl (24 kB)\n",
      "Installing collected packages: py-cpuinfo, tqdm, smmap, setuptools, requests, pillow, gitdb, ultralytics-thop, thop, gitpython, ultralytics\n",
      "  Attempting uninstall: tqdm\n",
      "    Found existing installation: tqdm 4.66.1\n",
      "    Uninstalling tqdm-4.66.1:\n",
      "      Successfully uninstalled tqdm-4.66.1\n",
      "  Attempting uninstall: setuptools\n",
      "    Found existing installation: setuptools 58.1.0\n",
      "    Uninstalling setuptools-58.1.0:\n",
      "      Successfully uninstalled setuptools-58.1.0\n",
      "  Attempting uninstall: requests\n",
      "    Found existing installation: requests 2.28.2\n",
      "    Uninstalling requests-2.28.2:\n",
      "      Successfully uninstalled requests-2.28.2\n",
      "  Attempting uninstall: pillow\n",
      "    Found existing installation: Pillow 9.4.0\n",
      "    Uninstalling Pillow-9.4.0:\n",
      "      Successfully uninstalled Pillow-9.4.0\n",
      "Successfully installed gitdb-4.0.11 gitpython-3.1.43 pillow-10.4.0 py-cpuinfo-9.0.0 requests-2.32.3 setuptools-75.1.0 smmap-5.0.1 thop-0.1.1.post2209072238 tqdm-4.66.5 ultralytics-8.3.5 ultralytics-thop-2.0.9\n"
     ]
    },
    {
     "name": "stderr",
     "output_type": "stream",
     "text": [
      "\n",
      "[notice] A new release of pip is available: 24.0 -> 24.2\n",
      "[notice] To update, run: python.exe -m pip install --upgrade pip\n"
     ]
    }
   ],
   "source": [
    "!pip install -r requirements.txt"
   ]
  },
  {
   "cell_type": "code",
   "execution_count": 3,
   "metadata": {},
   "outputs": [
    {
     "name": "stdout",
     "output_type": "stream",
     "text": [
      "Creating new Ultralytics Settings v0.0.6 file ✅ \n",
      "View Ultralytics Settings with 'yolo settings' or at 'C:\\Users\\HP\\AppData\\Roaming\\Ultralytics\\settings.json'\n",
      "Update Settings with 'yolo settings key=value', i.e. 'yolo settings runs_dir=path/to/dir'. For help see https://docs.ultralytics.com/quickstart/#ultralytics-settings.\n",
      "usage: detect.py [-h] [--weights WEIGHTS [WEIGHTS ...]] [--source SOURCE]\n",
      "                 [--data DATA] [--imgsz IMGSZ [IMGSZ ...]]\n",
      "                 [--conf-thres CONF_THRES] [--iou-thres IOU_THRES]\n",
      "                 [--max-det MAX_DET] [--device DEVICE] [--view-img]\n",
      "                 [--save-txt] [--save-format SAVE_FORMAT] [--save-csv]\n",
      "                 [--save-conf] [--save-crop] [--nosave]\n",
      "                 [--classes CLASSES [CLASSES ...]] [--agnostic-nms]\n",
      "                 [--augment] [--visualize] [--update] [--project PROJECT]\n",
      "                 [--name NAME] [--exist-ok] [--line-thickness LINE_THICKNESS]\n",
      "                 [--hide-labels] [--hide-conf] [--half] [--dnn]\n",
      "                 [--vid-stride VID_STRIDE]\n",
      "\n",
      "options:\n",
      "  -h, --help            show this help message and exit\n",
      "  --weights WEIGHTS [WEIGHTS ...]\n",
      "                        model path or triton URL\n",
      "  --source SOURCE       file/dir/URL/glob/screen/0(webcam)\n",
      "  --data DATA           (optional) dataset.yaml path\n",
      "  --imgsz IMGSZ [IMGSZ ...], --img IMGSZ [IMGSZ ...], --img-size IMGSZ [IMGSZ ...]\n",
      "                        inference size h,w\n",
      "  --conf-thres CONF_THRES\n",
      "                        confidence threshold\n",
      "  --iou-thres IOU_THRES\n",
      "                        NMS IoU threshold\n",
      "  --max-det MAX_DET     maximum detections per image\n",
      "  --device DEVICE       cuda device, i.e. 0 or 0,1,2,3 or cpu\n",
      "  --view-img            show results\n",
      "  --save-txt            save results to *.txt\n",
      "  --save-format SAVE_FORMAT\n",
      "                        whether to save boxes coordinates in YOLO format or\n",
      "                        Pascal-VOC format when save-txt is True, 0 for YOLO\n",
      "                        and 1 for Pascal-VOC\n",
      "  --save-csv            save results in CSV format\n",
      "  --save-conf           save confidences in --save-txt labels\n",
      "  --save-crop           save cropped prediction boxes\n",
      "  --nosave              do not save images/videos\n",
      "  --classes CLASSES [CLASSES ...]\n",
      "                        filter by class: --classes 0, or --classes 0 2 3\n",
      "  --agnostic-nms        class-agnostic NMS\n",
      "  --augment             augmented inference\n",
      "  --visualize           visualize features\n",
      "  --update              update all models\n",
      "  --project PROJECT     save results to project/name\n",
      "  --name NAME           save results to project/name\n",
      "  --exist-ok            existing project/name ok, do not increment\n",
      "  --line-thickness LINE_THICKNESS\n",
      "                        bounding box thickness (pixels)\n",
      "  --hide-labels         hide labels\n",
      "  --hide-conf           hide confidences\n",
      "  --half                use FP16 half-precision inference\n",
      "  --dnn                 use OpenCV DNN for ONNX inference\n",
      "  --vid-stride VID_STRIDE\n",
      "                        video frame-rate stride\n"
     ]
    }
   ],
   "source": [
    "!python detect.py --help"
   ]
  },
  {
   "cell_type": "code",
   "execution_count": 4,
   "metadata": {},
   "outputs": [],
   "source": [
    "import zipfile\n",
    "import os\n",
    "\n",
    "with zipfile.ZipFile('D:/Game Theory Assignment/Implementation_3/dataset.zip', 'r') as zip_ref:\n",
    "    zip_ref.extractall('D:/Game Theory Assignment/Implementation_3/')"
   ]
  },
  {
   "cell_type": "code",
   "execution_count": 18,
   "metadata": {},
   "outputs": [],
   "source": [
    "with open('D:/Game Theory Assignment/Implementation_3/dataset/dataset.yaml', 'w') as f:\n",
    "    f.write(\"\"\"\n",
    "train: \"D:/Game Theory Assignment/Implementation_3/dataset/images/train\"  # path to training images\n",
    "val: \"D:/Game Theory Assignment/Implementation_3/dataset/images/val\"      # path to validation images\n",
    "\n",
    "nc: 4  # number of classes\n",
    "names: ['player1', 'player2', 'player3', 'player4']  # list of class names\n",
    "\"\"\")"
   ]
  },
  {
   "cell_type": "code",
   "execution_count": 16,
   "metadata": {},
   "outputs": [
    {
     "name": "stdout",
     "output_type": "stream",
     "text": [
      "D:\\Game Theory Assignment\\Implementation_3\\yolov5\n"
     ]
    }
   ],
   "source": [
    "%cd D:/Game Theory Assignment/Implementation_3/yolov5"
   ]
  },
  {
   "cell_type": "code",
   "execution_count": 4,
   "metadata": {},
   "outputs": [
    {
     "name": "stdout",
     "output_type": "stream",
     "text": [
      "Updated labels in D:/Game Theory Assignment/Implementation_3/dataset/labels/train\\24082_62_122_121.txt.\n",
      "Updated labels in D:/Game Theory Assignment/Implementation_3/dataset/labels/train\\24082_86_142_128.txt.\n",
      "Updated labels in D:/Game Theory Assignment/Implementation_3/dataset/labels/train\\24082_87_119_124.txt.\n",
      "Updated labels in D:/Game Theory Assignment/Implementation_3/dataset/labels/train\\24087_58_122_119.txt.\n",
      "Updated labels in D:/Game Theory Assignment/Implementation_3/dataset/labels/train\\24087_83_119_124.txt.\n",
      "Updated labels in D:/Game Theory Assignment/Implementation_3/dataset/labels/train\\24087_85_142_128.txt.\n",
      "Updated labels in D:/Game Theory Assignment/Implementation_3/dataset/labels/train\\24087_95_116_127.txt.\n",
      "Updated labels in D:/Game Theory Assignment/Implementation_3/dataset/labels/train\\24092_59_122_120.txt.\n",
      "Updated labels in D:/Game Theory Assignment/Implementation_3/dataset/labels/train\\24092_85_119_123.txt.\n",
      "Updated labels in D:/Game Theory Assignment/Implementation_3/dataset/labels/train\\24092_88_143_128.txt.\n",
      "Updated labels in D:/Game Theory Assignment/Implementation_3/dataset/labels/train\\24092_94_116_128.txt.\n",
      "Updated labels in D:/Game Theory Assignment/Implementation_3/dataset/labels/train\\24097_72_123_121.txt.\n",
      "Updated labels in D:/Game Theory Assignment/Implementation_3/dataset/labels/train\\24097_85_140_127.txt.\n",
      "Updated labels in D:/Game Theory Assignment/Implementation_3/dataset/labels/train\\24102_102_119_123.txt.\n",
      "Updated labels in D:/Game Theory Assignment/Implementation_3/dataset/labels/train\\24102_58_122_119.txt.\n",
      "Updated labels in D:/Game Theory Assignment/Implementation_3/dataset/labels/train\\24102_64_122_122.txt.\n",
      "Updated labels in D:/Game Theory Assignment/Implementation_3/dataset/labels/train\\24102_87_140_126.txt.\n",
      "Updated labels in D:/Game Theory Assignment/Implementation_3/dataset/labels/train\\24107_60_121_120.txt.\n",
      "Updated labels in D:/Game Theory Assignment/Implementation_3/dataset/labels/train\\24107_65_120_122.txt.\n",
      "Updated labels in D:/Game Theory Assignment/Implementation_3/dataset/labels/train\\24107_88_141_127.txt.\n",
      "Updated labels in D:/Game Theory Assignment/Implementation_3/dataset/labels/train\\24112_61_121_121.txt.\n",
      "Updated labels in D:/Game Theory Assignment/Implementation_3/dataset/labels/train\\24112_61_122_123.txt.\n",
      "Updated labels in D:/Game Theory Assignment/Implementation_3/dataset/labels/train\\24112_77_118_123.txt.\n",
      "Updated labels in D:/Game Theory Assignment/Implementation_3/dataset/labels/train\\24112_89_141_127.txt.\n",
      "Updated labels in D:/Game Theory Assignment/Implementation_3/dataset/labels/train\\24117_64_120_123.txt.\n",
      "Updated labels in D:/Game Theory Assignment/Implementation_3/dataset/labels/train\\24117_87_119_124.txt.\n",
      "Updated labels in D:/Game Theory Assignment/Implementation_3/dataset/labels/train\\24117_96_140_126.txt.\n",
      "Updated labels in D:/Game Theory Assignment/Implementation_3/dataset/labels/train\\24122_66_121_122.txt.\n",
      "Updated labels in D:/Game Theory Assignment/Implementation_3/dataset/labels/train\\24122_76_118_124.txt.\n",
      "Updated labels in D:/Game Theory Assignment/Implementation_3/dataset/labels/train\\24122_97_140_126.txt.\n",
      "Updated labels in D:/Game Theory Assignment/Implementation_3/dataset/labels/train\\24127_78_118_124.txt.\n",
      "Updated labels in D:/Game Theory Assignment/Implementation_3/dataset/labels/train\\24127_86_120_123.txt.\n",
      "Updated labels in D:/Game Theory Assignment/Implementation_3/dataset/labels/train\\24127_95_140_126.txt.\n",
      "Updated labels in D:/Game Theory Assignment/Implementation_3/dataset/labels/train\\24329_123_143_125.txt.\n",
      "Updated labels in D:/Game Theory Assignment/Implementation_3/dataset/labels/train\\24329_65_121_121.txt.\n",
      "Updated labels in D:/Game Theory Assignment/Implementation_3/dataset/labels/train\\24329_78_120_126.txt.\n",
      "Updated labels in D:/Game Theory Assignment/Implementation_3/dataset/labels/train\\24329_92_115_127.txt.\n",
      "Updated labels in D:/Game Theory Assignment/Implementation_3/dataset/labels/train\\24334_134_145_126.txt.\n",
      "Updated labels in D:/Game Theory Assignment/Implementation_3/dataset/labels/train\\24334_61_121_121.txt.\n",
      "Updated labels in D:/Game Theory Assignment/Implementation_3/dataset/labels/train\\24334_70_120_125.txt.\n",
      "Updated labels in D:/Game Theory Assignment/Implementation_3/dataset/labels/train\\24339_76_119_126.txt.\n",
      "Updated labels in D:/Game Theory Assignment/Implementation_3/dataset/labels/train\\24762_119_115_127.txt.\n",
      "Updated labels in D:/Game Theory Assignment/Implementation_3/dataset/labels/train\\24802_60_121_124.txt.\n",
      "Updated labels in D:/Game Theory Assignment/Implementation_3/dataset/labels/train\\25003_88_138_127.txt.\n",
      "Updated labels in D:/Game Theory Assignment/Implementation_3/dataset/labels/train\\25018_148_125_122.txt.\n",
      "Updated labels in D:/Game Theory Assignment/Implementation_3/dataset/labels/train\\25033_82_117_122.txt.\n",
      "Updated labels in D:/Game Theory Assignment/Implementation_3/dataset/labels/train\\25360_96_137_126.txt.\n",
      "Updated labels in D:/Game Theory Assignment/Implementation_3/dataset/labels/train\\25395_75_118_121.txt.\n",
      "Updated labels in D:/Game Theory Assignment/Implementation_3/dataset/labels/train\\25884_67_121_118.txt.\n",
      "Updated labels in D:/Game Theory Assignment/Implementation_3/dataset/labels/train\\25894_72_120_120.txt.\n",
      "Updated labels in D:/Game Theory Assignment/Implementation_3/dataset/labels/train\\25899_63_120_125.txt.\n",
      "Updated labels in D:/Game Theory Assignment/Implementation_3/dataset/labels/train\\25899_70_121_119.txt.\n",
      "Updated labels in D:/Game Theory Assignment/Implementation_3/dataset/labels/train\\25904_64_120_125.txt.\n",
      "Updated labels in D:/Game Theory Assignment/Implementation_3/dataset/labels/train\\25904_76_119_123.txt.\n",
      "Updated labels in D:/Game Theory Assignment/Implementation_3/dataset/labels/train\\25909_65_121_123.txt.\n",
      "Updated labels in D:/Game Theory Assignment/Implementation_3/dataset/labels/train\\25914_64_120_124.txt.\n",
      "Updated labels in D:/Game Theory Assignment/Implementation_3/dataset/labels/train\\25914_80_118_124.txt.\n",
      "Updated labels in D:/Game Theory Assignment/Implementation_3/dataset/labels/train\\26271_70_118_125.txt.\n",
      "Updated labels in D:/Game Theory Assignment/Implementation_3/dataset/labels/train\\26281_72_118_124.txt.\n",
      "Updated labels in D:/Game Theory Assignment/Implementation_3/dataset/labels/train\\26562_80_119_125.txt.\n",
      "Updated labels in D:/Game Theory Assignment/Implementation_3/dataset/labels/train\\26885_105_141_123.txt.\n",
      "Updated labels in D:/Game Theory Assignment/Implementation_3/dataset/labels/train\\26885_71_120_124.txt.\n",
      "Updated labels in D:/Game Theory Assignment/Implementation_3/dataset/labels/train\\26895_112_141_126.txt.\n",
      "Updated labels in D:/Game Theory Assignment/Implementation_3/dataset/labels/train\\26895_72_120_125.txt.\n"
     ]
    }
   ],
   "source": [
    "import os\n",
    "directory_path = 'D:/Game Theory Assignment/Implementation_3/dataset/labels/train'\n",
    "\n",
    "label_mapping = {\n",
    "    '15': '0',\n",
    "    '16': '1',\n",
    "    '17': '2',\n",
    "    '18': '3',\n",
    "}\n",
    "for filename in os.listdir(directory_path):\n",
    "    if filename.endswith('.txt'): \n",
    "        file_path = os.path.join(directory_path, filename)\n",
    "\n",
    "        with open(file_path, 'r') as file:\n",
    "            lines = file.readlines()\n",
    "\n",
    "        new_lines = []\n",
    "        for line in lines:\n",
    "            parts = line.split()\n",
    "\n",
    "            if parts and parts[0] in label_mapping:\n",
    "                parts[0] = label_mapping[parts[0]]\n",
    "            new_lines.append(\" \".join(parts) + \"\\n\")\n",
    "\n",
    "        with open(file_path, 'w') as file:\n",
    "            file.writelines(new_lines)\n",
    "\n",
    "        print(f\"Updated labels in {file_path}.\")\n"
   ]
  },
  {
   "cell_type": "code",
   "execution_count": 5,
   "metadata": {},
   "outputs": [
    {
     "name": "stdout",
     "output_type": "stream",
     "text": [
      "Updated labels in D:/Game Theory Assignment/Implementation_3/dataset/labels/val\\24082_91_117_125.txt.\n",
      "Updated labels in D:/Game Theory Assignment/Implementation_3/dataset/labels/val\\24097_103_118_125.txt.\n",
      "Updated labels in D:/Game Theory Assignment/Implementation_3/dataset/labels/val\\24097_58_122_119.txt.\n",
      "Updated labels in D:/Game Theory Assignment/Implementation_3/dataset/labels/val\\24107_93_118_122.txt.\n",
      "Updated labels in D:/Game Theory Assignment/Implementation_3/dataset/labels/val\\24117_72_120_124.txt.\n",
      "Updated labels in D:/Game Theory Assignment/Implementation_3/dataset/labels/val\\24127_65_121_122.txt.\n",
      "Updated labels in D:/Game Theory Assignment/Implementation_3/dataset/labels/val\\24334_86_116_126.txt.\n",
      "Updated labels in D:/Game Theory Assignment/Implementation_3/dataset/labels/val\\24369_80_117_126.txt.\n",
      "Updated labels in D:/Game Theory Assignment/Implementation_3/dataset/labels/val\\25879_93_115_128.txt.\n",
      "Updated labels in D:/Game Theory Assignment/Implementation_3/dataset/labels/val\\25884_119_146_120.txt.\n",
      "Updated labels in D:/Game Theory Assignment/Implementation_3/dataset/labels/val\\25889_71_119_121.txt.\n",
      "Updated labels in D:/Game Theory Assignment/Implementation_3/dataset/labels/val\\26251_66_121_121.txt.\n",
      "Updated labels in D:/Game Theory Assignment/Implementation_3/dataset/labels/val\\26572_108_135_125.txt.\n",
      "Updated labels in D:/Game Theory Assignment/Implementation_3/dataset/labels/val\\26865_114_144_126.txt.\n",
      "Updated labels in D:/Game Theory Assignment/Implementation_3/dataset/labels/val\\26890_111_137_128.txt.\n",
      "Updated labels in D:/Game Theory Assignment/Implementation_3/dataset/labels/val\\26890_72_119_125.txt.\n"
     ]
    }
   ],
   "source": [
    "import os\n",
    "directory_path = 'D:/Game Theory Assignment/Implementation_3/dataset/labels/val'\n",
    "\n",
    "label_mapping = {\n",
    "    '15': '0',\n",
    "    '16': '1',\n",
    "    '17': '2',\n",
    "    '18': '3',\n",
    "}\n",
    "for filename in os.listdir(directory_path):\n",
    "    if filename.endswith('.txt'): \n",
    "        file_path = os.path.join(directory_path, filename)\n",
    "\n",
    "        with open(file_path, 'r') as file:\n",
    "            lines = file.readlines()\n",
    "\n",
    "        new_lines = []\n",
    "        for line in lines:\n",
    "            parts = line.split()\n",
    "\n",
    "            if parts and parts[0] in label_mapping:\n",
    "                parts[0] = label_mapping[parts[0]]\n",
    "            new_lines.append(\" \".join(parts) + \"\\n\")\n",
    "\n",
    "        with open(file_path, 'w') as file:\n",
    "            file.writelines(new_lines)\n",
    "\n",
    "        print(f\"Updated labels in {file_path}.\")\n"
   ]
  },
  {
   "cell_type": "code",
   "execution_count": 20,
   "metadata": {},
   "outputs": [
    {
     "name": "stdout",
     "output_type": "stream",
     "text": [
      "^C\n"
     ]
    }
   ],
   "source": [
    "!python train.py --img 640 --batch 16 --epochs 50 --data \"D:/Game Theory Assignment/Implementation_3/dataset/dataset.yaml\" --weights yolov5s.pt --cache > training_log.txt 2>&1"
   ]
  },
  {
   "cell_type": "code",
   "execution_count": null,
   "metadata": {},
   "outputs": [],
   "source": [
    "!python detect.py --weights \"D:/Game Theory Assignment/Implementation_3/yolov5/runs/train/exp2/weights/best.pt\" --source \"D:/Game Theory Assignment/two_players_top\" --img 640 --conf 0.05 --save-txt --save-conf --name \"D:/Game Theory Assignment/player_segregation_top\""
   ]
  },
  {
   "cell_type": "code",
   "execution_count": null,
   "metadata": {},
   "outputs": [],
   "source": [
    "!python detect.py --weights \"D:/Game Theory Assignment/Implementation_3/yolov5/runs/train/exp2/weights/best.pt\" --source \"D:/Game Theory Assignment/two_players_bot\" --img 640 --conf 0.05 --save-txt --save-conf --name \"D:/Game Theory Assignment/player_segregation_bot\""
   ]
  },
  {
   "cell_type": "code",
   "execution_count": null,
   "metadata": {},
   "outputs": [],
   "source": [
    "import os\n",
    "import shutil\n",
    "\n",
    "result_dirs = [\"D:/Game Theory Assignment/player_segregation_top\", \"D:/Game Theory Assignment/player_segregation_bot\"]\n",
    "output_dir = \"D:/Game Theory Assignment/output\"\n",
    "\n",
    "for i in range(1, 5):\n",
    "    os.makedirs(os.path.join(output_dir, f'player{i}'), exist_ok=True)\n",
    "\n",
    "for results_dir in result_dirs:\n",
    "    for file in os.listdir(results_dir):\n",
    "        if file.endswith('.txt'):\n",
    "            with open(os.path.join(results_dir, file), 'r') as f:\n",
    "                lines = f.readlines()\n",
    "                for line in lines:\n",
    "                    class_id = int(line.split()[0])\n",
    "                    image_file = file.replace('.txt', '.jpg')\n",
    "                    src_image_path = os.path.join(results_dir, image_file)\n",
    "                    dst_image_path = os.path.join(output_dir, f'player{class_id+1}', image_file)\n",
    "                    if os.path.exists(src_image_path):\n",
    "                        shutil.move(src_image_path, dst_image_path)"
   ]
  }
 ],
 "metadata": {
  "kernelspec": {
   "display_name": "Python 3",
   "language": "python",
   "name": "python3"
  },
  "language_info": {
   "codemirror_mode": {
    "name": "ipython",
    "version": 3
   },
   "file_extension": ".py",
   "mimetype": "text/x-python",
   "name": "python",
   "nbconvert_exporter": "python",
   "pygments_lexer": "ipython3",
   "version": "3.10.4"
  }
 },
 "nbformat": 4,
 "nbformat_minor": 2
}
